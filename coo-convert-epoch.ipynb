{
 "cells": [
  {
   "cell_type": "code",
   "execution_count": 1,
   "metadata": {},
   "outputs": [],
   "source": [
    "from astropy import units as u\n",
    "from astropy.coordinates import ICRS\n",
    "from astropy.time import Time\n",
    "from astropy.coordinates import SkyCoord"
   ]
  },
  {
   "cell_type": "code",
   "execution_count": 2,
   "metadata": {},
   "outputs": [],
   "source": [
    "# Set Polaris coordinates and proper-motion from SIMBAD web site\n",
    "# manual copy\n",
    "pos_m = SkyCoord(037.95456067*u.degree, 89.26410897 *u.degree ,frame=ICRS, obstime=Time(2000.0, format='decimalyear'), pm_ra_cosdec=44.48*u.mas/u.yr, pm_dec=-11.85*u.mas/u.yr)\n",
    "\n",
    "# query SIMBAD\n",
    "from astroquery.simbad import Simbad\n",
    "s = Simbad()\n",
    "s.add_votable_fields('ra(d)')\n",
    "s.add_votable_fields('dec(d)')\n",
    "s.add_votable_fields('pmra')\n",
    "s.add_votable_fields('pmdec')\n",
    "s.TIMEOUT = 10\n",
    "\n",
    "result_polaris = s.query_object('Polaris')\n",
    "pos = SkyCoord(result_polaris['RA_d'][0]*u.degree, result_polaris['DEC_d'][0]*u.degree ,frame=ICRS, obstime=Time(2000.0, format='decimalyear'), pm_ra_cosdec=result_polaris['PMRA'][0]*u.mas/u.yr, pm_dec=result_polaris['PMDEC'][0]*u.mas/u.yr)"
   ]
  },
  {
   "cell_type": "code",
   "execution_count": 3,
   "metadata": {},
   "outputs": [
    {
     "name": "stdout",
     "output_type": "stream",
     "text": [
      "<ICRS Coordinate: (ra, dec) in deg\n",
      "    (37.95456067, 89.26410897)\n",
      " (pm_ra_cosdec, pm_dec) in mas / yr\n",
      "    (44.48, -11.85)>\n",
      "02h31m49.0946s +89d15m50.7923s\n",
      "\n",
      "<ICRS Coordinate: (ra, dec) in deg\n",
      "    (37.95456067, 89.26410897)\n",
      " (pm_ra_cosdec, pm_dec) in mas / yr\n",
      "    (44.48, -11.85)>\n",
      "02h31m49.0946s +89d15m50.7923s\n",
      "\n"
     ]
    }
   ],
   "source": [
    "# display coordinates\n",
    "print(pos_m.frame)\n",
    "print(pos_m.to_string('hmsdms')+\"\\n\")\n",
    "# display coordinates\n",
    "print(pos.frame)\n",
    "print(pos.to_string('hmsdms')+\"\\n\")"
   ]
  },
  {
   "cell_type": "code",
   "execution_count": 4,
   "metadata": {},
   "outputs": [
    {
     "name": "stdout",
     "output_type": "stream",
     "text": [
      "<FK5 Coordinate (equinox=J2000.000): (ra, dec) in deg\n",
      "    (37.76245825, 89.26476175)\n",
      " (pm_ra_cosdec, pm_dec, radial_velocity) in (mas / yr, mas / yr, km / s)\n",
      "    (44.51947879, -11.70080765, -0.13386767)>\n",
      "02h31m02.99s +89d15m53.1423s\n",
      "\n"
     ]
    },
    {
     "name": "stderr",
     "output_type": "stream",
     "text": [
      "/opt/conda/lib/python3.9/site-packages/erfa/core.py:154: ErfaWarning: ERFA function \"dtf2d\" yielded 1 of \"dubious year (Note 6)\"\n",
      "  warnings.warn('ERFA function \"{}\" yielded {}'.format(func_name, wmsg),\n",
      "/opt/conda/lib/python3.9/site-packages/erfa/core.py:154: ErfaWarning: ERFA function \"utctai\" yielded 1 of \"dubious year (Note 3)\"\n",
      "  warnings.warn('ERFA function \"{}\" yielded {}'.format(func_name, wmsg),\n",
      "/opt/conda/lib/python3.9/site-packages/erfa/core.py:154: ErfaWarning: ERFA function \"taiutc\" yielded 1 of \"dubious year (Note 4)\"\n",
      "  warnings.warn('ERFA function \"{}\" yielded {}'.format(func_name, wmsg),\n",
      "/opt/conda/lib/python3.9/site-packages/erfa/core.py:154: ErfaWarning: ERFA function \"pmsafe\" yielded 1 of \"distance overridden (Note 6)\"\n",
      "  warnings.warn('ERFA function \"{}\" yielded {}'.format(func_name, wmsg),\n"
     ]
    }
   ],
   "source": [
    "# move the object according to the motion, and to a specific date, here 1800\n",
    "pos_ep_1800=pos.apply_space_motion(Time(1800.0, format='decimalyear'))\n",
    "print(pos_ep_1800.fk5.frame)\n",
    "print(pos_ep_1800.fk5.to_string('hmsdms')+\"\\n\")\n"
   ]
  },
  {
   "cell_type": "raw",
   "metadata": {},
   "source": []
  }
 ],
 "metadata": {
  "kernelspec": {
   "display_name": "Python 3",
   "language": "python",
   "name": "python3"
  },
  "language_info": {
   "codemirror_mode": {
    "name": "ipython",
    "version": 3
   },
   "file_extension": ".py",
   "mimetype": "text/x-python",
   "name": "python",
   "nbconvert_exporter": "python",
   "pygments_lexer": "ipython3",
   "version": "3.9.2"
  }
 },
 "nbformat": 4,
 "nbformat_minor": 4
}
